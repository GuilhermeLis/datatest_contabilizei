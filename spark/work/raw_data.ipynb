{
 "cells": [
  {
   "cell_type": "code",
   "execution_count": null,
   "id": "695a617c-e3de-453e-8c24-63a0e2772f55",
   "metadata": {},
   "outputs": [],
   "source": [
    "from pyspark.sql import SparkSession\n",
    "from pyspark.sql.functions import *\n",
    "\n",
    "# spark = SparkSession.builder \\\n",
    "#     .appName(\"Kafka to Minio\") \\\n",
    "#     .getOrCreate()\n",
    "\n",
    "spark = SparkSession.builder \\\n",
    "    .appName(\"Kafka to Minio\") \\\n",
    "    .config(\"spark.task.maxFailures\", \"1\") \\\n",
    "    .config(\"spark.hadoop.fs.s3a.endpoint\", \"minio:9000\") \\\n",
    "    .config(\"spark.hadoop.s3a.access.key\", \"wFw2nWmmNHNivuqh\") \\\n",
    "    .config(\"spark.hadoop.fs.s3a.secret.key\", \"Y09TobUR4MGJTuhphCnMMgmdoIBfn1gs\") \\\n",
    "    .config(\"spark.hadoop.fs.s3a.path.style.access\", True) \\\n",
    "    .config(\"spark.hadoop.fs.s3a.impl\", \"org.apache.hadoop.fs.s3a.S3AFileSystem\") \\\n",
    "    .config(\"spark.hadoop.fs.s3a.ssl.enabled\", False) \\\n",
    "    .getOrCreate()\n",
    "# tiAoMHTLqpoi7TKMVXQGPR7N0VT6dRsJ\n",
    "# E0QTNG3vCGYwqpar\n",
    "\n",
    "spark.sparkContext.setLogLevel('INFO')\n",
    "# spark.sparkContext.setLogLevel('ERROR')\n",
    "\n",
    "df = spark \\\n",
    "    .readStream \\\n",
    "    .format(\"kafka\") \\\n",
    "    .option(\"kafka.bootstrap.servers\", \"kafka-broker:9092\") \\\n",
    "    .option(\"subscribe\", \"user\") \\\n",
    "    .load()\n",
    "\n",
    "df = df.selectExpr(\"CAST(value AS STRING)\")\n",
    "\n",
    "query = df \\\n",
    "    .writeStream \\\n",
    "    .format(\"json\") \\\n",
    "    .option(\"path\", \"s3a://raw/user\") \\\n",
    "    .option(\"checkpointLocation\", \"/tmp/checkpoints\") \\\n",
    "    .trigger(processingTime='1 seconds') \\\n",
    "    .start()\n",
    "\n",
    "query.awaitTermination()"
   ]
  },
  {
   "cell_type": "code",
   "execution_count": null,
   "id": "c4fc6072-7d1a-470d-8c04-435193b0f789",
   "metadata": {},
   "outputs": [],
   "source": []
  }
 ],
 "metadata": {
  "kernelspec": {
   "display_name": "Python 3 (ipykernel)",
   "language": "python",
   "name": "python3"
  },
  "language_info": {
   "codemirror_mode": {
    "name": "ipython",
    "version": 3
   },
   "file_extension": ".py",
   "mimetype": "text/x-python",
   "name": "python",
   "nbconvert_exporter": "python",
   "pygments_lexer": "ipython3",
   "version": "3.10.8"
  }
 },
 "nbformat": 4,
 "nbformat_minor": 5
}
