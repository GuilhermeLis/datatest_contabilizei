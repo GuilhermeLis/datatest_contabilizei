{
 "cells": [
  {
   "cell_type": "code",
   "execution_count": null,
   "id": "39f627ba-5c44-44b4-b586-7c276cf898f7",
   "metadata": {},
   "outputs": [],
   "source": [
    "from confluent_kafka import Consumer\n",
    "from time import sleep"
   ]
  },
  {
   "cell_type": "code",
   "execution_count": null,
   "id": "e489654e-62be-4b51-ba94-75158dd4f917",
   "metadata": {},
   "outputs": [],
   "source": [
    "class ExampleConsumer:\n",
    "    broker = \"kafka-broker:9092\"\n",
    "    topic = \"user\"\n",
    "    group_id = \"python\"\n",
    "\n",
    "    def start_listener(self):\n",
    "        consumer_config = {\n",
    "            'bootstrap.servers': self.broker,\n",
    "            'group.id': self.group_id,\n",
    "            'auto.offset.reset': 'latest',\n",
    "            'enable.auto.commit': 'false',\n",
    "            'max.poll.interval.ms': '86400000'\n",
    "        }\n",
    "\n",
    "        consumer = Consumer(consumer_config)\n",
    "        consumer.subscribe([self.topic])\n",
    "\n",
    "        try:\n",
    "            while True:\n",
    "                #print(\"Listening\")\n",
    "                # read single message at a time\n",
    "                msg = consumer.poll(0)\n",
    "                \n",
    "                if msg is None:\n",
    "                    sleep(5)\n",
    "                    continue\n",
    "                if msg.error():\n",
    "                    print(\"Error reading message : {}\".format(msg.error()))\n",
    "                    continue\n",
    "                # You can parse message and save to data base here\n",
    "                print('----------------------------')\n",
    "                print(\"partition: {} \\n offset: {} \\n topic: {} \\n timestamp: {} \\n value: {}\".format(msg.partition(), msg.offset(),msg.topic(),msg.timestamp(),msg.value()))\n",
    "                #sua regra\n",
    "                                \n",
    "                consumer.commit()\n",
    "\n",
    "        except Exception as ex:\n",
    "            print(\"Kafka Exception : {}\", ex)\n",
    "\n",
    "        finally:\n",
    "            print(\"closing consumer\")\n",
    "            consumer.close()\n",
    "\n"
   ]
  },
  {
   "cell_type": "code",
   "execution_count": null,
   "id": "9e8a6c29-e9cd-4c78-8e8c-a25b6672ae47",
   "metadata": {},
   "outputs": [],
   "source": [
    "#RUNNING CONSUMER FOR READING MESSAGE FROM THE KAFKA TOPIC\n",
    "my_consumer = ExampleConsumer()\n",
    "my_consumer.start_listener()"
   ]
  }
 ],
 "metadata": {
  "kernelspec": {
   "display_name": "Python 3 (ipykernel)",
   "language": "python",
   "name": "python3"
  },
  "language_info": {
   "codemirror_mode": {
    "name": "ipython",
    "version": 3
   },
   "file_extension": ".py",
   "mimetype": "text/x-python",
   "name": "python",
   "nbconvert_exporter": "python",
   "pygments_lexer": "ipython3",
   "version": "3.10.8"
  }
 },
 "nbformat": 4,
 "nbformat_minor": 5
}
