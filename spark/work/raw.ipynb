{
 "cells": [
  {
   "cell_type": "code",
   "execution_count": null,
   "id": "cbed7ae0-48af-483b-a917-c2bb9f359ac6",
   "metadata": {},
   "outputs": [],
   "source": [
    "from pyspark.sql import SparkSession\n",
    "from pyspark.sql.functions import *\n",
    "\n",
    "# spark = SparkSession.builder \\\n",
    "#     .appName(\"Kafka to Minio\") \\\n",
    "#     .getOrCreate()\n",
    "\n",
    "spark = SparkSession.builder \\\n",
    "    .appName(\"Kafka to Minio\") \\\n",
    "    .config(\"spark.hadoop.fs.s3a.endpoint\", \"minio:9000\") \\\n",
    "    .config(\"spark.hadoop.s3a.access.key\", \"ksLR8hV4x3Zm8LCe\") \\\n",
    "    .config(\"spark.hadoop.fs.s3a.secret.key\", \"3JZFlb0fHRvQ5p6BgLn74HxqfNxrA0km\") \\\n",
    "    .config(\"spark.hadoop.fs.s3a.path.style.access\", True) \\\n",
    "    .config(\"spark.hadoop.fs.s3a.impl\", \"org.apache.hadoop.fs.s3a.S3AFileSystem\") \\\n",
    "    .getOrCreate()\n",
    "\n",
    "df = spark \\\n",
    "    .readStream \\\n",
    "    .format(\"kafka\") \\\n",
    "    .option(\"kafka.bootstrap.servers\", \"kafka-broker:9092\") \\\n",
    "    .option(\"subscribe\", \"user\") \\\n",
    "    .load()\n",
    "\n",
    "df = df.selectExpr(\"CAST(value AS STRING)\")\n",
    "\n",
    "query = df \\\n",
    "    .writeStream \\\n",
    "    .format(\"json\") \\\n",
    "    .option(\"path\", \"s3a://raw/user\") \\\n",
    "    .option(\"checkpointLocation\", \"/tmp/checkpoints\") \\\n",
    "    .trigger(processingTime='30 seconds') \\\n",
    "    .start()\n",
    "\n",
    "query.awaitTermination()\n",
    "\n",
    "# /tmp/checkpoints\n",
    "\n"
   ]
  },
  {
   "cell_type": "code",
   "execution_count": null,
   "id": "1beb93de-3391-4cd9-917b-cef63a5da534",
   "metadata": {},
   "outputs": [],
   "source": []
  }
 ],
 "metadata": {
  "kernelspec": {
   "display_name": "Python 3 (ipykernel)",
   "language": "python",
   "name": "python3"
  },
  "language_info": {
   "codemirror_mode": {
    "name": "ipython",
    "version": 3
   },
   "file_extension": ".py",
   "mimetype": "text/x-python",
   "name": "python",
   "nbconvert_exporter": "python",
   "pygments_lexer": "ipython3",
   "version": "3.10.8"
  }
 },
 "nbformat": 4,
 "nbformat_minor": 5
}
