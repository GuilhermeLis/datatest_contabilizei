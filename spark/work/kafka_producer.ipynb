{
 "cells": [
  {
   "cell_type": "code",
   "execution_count": 25,
   "id": "351ddfeb-b92b-4b35-8eda-1e90b62aaa79",
   "metadata": {},
   "outputs": [
    {
     "name": "stderr",
     "output_type": "stream",
     "text": [
      "2024-05-19 18:44:17,634 - jupyter_logger - DEBUG - Esta é uma mensagem de debug\n",
      "2024-05-19 18:44:17,634 - jupyter_logger - DEBUG - Esta é uma mensagem de debug\n",
      "2024-05-19 18:44:17,634 - jupyter_logger - DEBUG - Esta é uma mensagem de debug\n",
      "2024-05-19 18:44:17,634 - jupyter_logger - DEBUG - Esta é uma mensagem de debug\n",
      "DEBUG:jupyter_logger:Esta é uma mensagem de debug\n",
      "2024-05-19 18:44:17,639 - jupyter_logger - INFO - Esta é uma mensagem de info\n",
      "2024-05-19 18:44:17,639 - jupyter_logger - INFO - Esta é uma mensagem de info\n",
      "2024-05-19 18:44:17,639 - jupyter_logger - INFO - Esta é uma mensagem de info\n",
      "2024-05-19 18:44:17,639 - jupyter_logger - INFO - Esta é uma mensagem de info\n",
      "INFO:jupyter_logger:Esta é uma mensagem de info\n",
      "2024-05-19 18:44:17,640 - jupyter_logger - WARNING - Esta é uma mensagem de warning\n",
      "2024-05-19 18:44:17,640 - jupyter_logger - WARNING - Esta é uma mensagem de warning\n",
      "2024-05-19 18:44:17,640 - jupyter_logger - WARNING - Esta é uma mensagem de warning\n",
      "2024-05-19 18:44:17,640 - jupyter_logger - WARNING - Esta é uma mensagem de warning\n",
      "WARNING:jupyter_logger:Esta é uma mensagem de warning\n",
      "2024-05-19 18:44:17,642 - jupyter_logger - ERROR - Esta é uma mensagem de error\n",
      "2024-05-19 18:44:17,642 - jupyter_logger - ERROR - Esta é uma mensagem de error\n",
      "2024-05-19 18:44:17,642 - jupyter_logger - ERROR - Esta é uma mensagem de error\n",
      "2024-05-19 18:44:17,642 - jupyter_logger - ERROR - Esta é uma mensagem de error\n",
      "ERROR:jupyter_logger:Esta é uma mensagem de error\n",
      "2024-05-19 18:44:17,643 - jupyter_logger - CRITICAL - Esta é uma mensagem de critical\n",
      "2024-05-19 18:44:17,643 - jupyter_logger - CRITICAL - Esta é uma mensagem de critical\n",
      "2024-05-19 18:44:17,643 - jupyter_logger - CRITICAL - Esta é uma mensagem de critical\n",
      "2024-05-19 18:44:17,643 - jupyter_logger - CRITICAL - Esta é uma mensagem de critical\n",
      "CRITICAL:jupyter_logger:Esta é uma mensagem de critical\n"
     ]
    }
   ],
   "source": [
    "import logging\n",
    "\n",
    "# Cria um logger com o nome 'jupyter_logger'\n",
    "logger = logging.getLogger('jupyter_logger')\n",
    "\n",
    "# Define o nível de log para DEBUG, então todas as mensagens de log serão mostradas\n",
    "logger.setLevel(logging.DEBUG)\n",
    "\n",
    "# Cria um manipulador de log que escreve as mensagens de log na saída padrão\n",
    "handler = logging.StreamHandler()\n",
    "\n",
    "# Define o nível de log do manipulador para DEBUG\n",
    "handler.setLevel(logging.DEBUG)\n",
    "\n",
    "# Cria um formatador de log que adiciona a data e hora à mensagem de log\n",
    "formatter = logging.Formatter('%(asctime)s - %(name)s - %(levelname)s - %(message)s')\n",
    "\n",
    "# Adiciona o formatador ao manipulador\n",
    "handler.setFormatter(formatter)\n",
    "\n",
    "# Adiciona o manipulador ao logger\n",
    "logger.addHandler(handler)\n",
    "\n",
    "# Agora você pode usar o logger para registrar mensagens de log\n",
    "logger.debug('Esta é uma mensagem de debug')\n",
    "logger.info('Esta é uma mensagem de info')\n",
    "logger.warning('Esta é uma mensagem de warning')\n",
    "logger.error('Esta é uma mensagem de error')\n",
    "logger.critical('Esta é uma mensagem de critical')"
   ]
  },
  {
   "cell_type": "code",
   "execution_count": 26,
   "id": "21738149-1b91-4381-a832-5b4f38745824",
   "metadata": {},
   "outputs": [],
   "source": [
    "from confluent_kafka import Producer\n",
    "# topic = \"user\"\n",
    "\n",
    "class Kafka_producer:\n",
    "    def __init__(self,broker = \"kafka-broker:9092\",group_id = \"python\"):\n",
    "        self._broker = broker\n",
    "        self._group_id = group_id\n",
    "        self._producer = self._making_the_producer()\n",
    "        return\n",
    "    def _making_the_producer(self):\n",
    "        logger.debug('Configuring code')\n",
    "        config = {\n",
    "                'bootstrap.servers': self._broker,\n",
    "                'group.id': self._group_id,\n",
    "                'auto.offset.reset': 'latest',\n",
    "                'enable.auto.commit': 'false',\n",
    "                'max.poll.interval.ms': '86400000'\n",
    "            }\n",
    "        return Producer(config)\n",
    "    \n",
    "    def kafka_producer(self,topic, data):\n",
    "\n",
    "        def _delivery_report(err, msg):\n",
    "            if err is not None:\n",
    "                logging.debug('Message delivery failed: {}'.format(err))\n",
    "            else:\n",
    "                logging.debug('Message delivered to {} [{}]'.format(msg.topic(), msg.partition()))\n",
    "        logging.debug('Publishing to topic')\n",
    "        self._producer.produce(topic, data, callback=_delivery_report)\n",
    "        self._producer.flush()"
   ]
  },
  {
   "cell_type": "code",
   "execution_count": 22,
   "id": "8f9a481e-3f5a-4c6b-9427-648089a9c81f",
   "metadata": {},
   "outputs": [],
   "source": [
    "import requests\n",
    "\n",
    "def get_data_from_endpoint():\n",
    "    url = \"https://random-data-api.com/api/v2/users?size=1\"\n",
    "    response = requests.get(url)\n",
    "    if response.status_code == 200:\n",
    "        return response.json()\n",
    "    else:\n",
    "        return None"
   ]
  },
  {
   "cell_type": "code",
   "execution_count": 24,
   "id": "927aa4f2-0bea-424c-bc59-a64e10e9fbbf",
   "metadata": {},
   "outputs": [
    {
     "name": "stderr",
     "output_type": "stream",
     "text": [
      "2024-05-19 18:43:01,990 - jupyter_logger - DEBUG - Configuring code\n",
      "2024-05-19 18:43:01,990 - jupyter_logger - DEBUG - Configuring code\n",
      "2024-05-19 18:43:01,990 - jupyter_logger - DEBUG - Configuring code\n",
      "DEBUG:jupyter_logger:Configuring code\n"
     ]
    },
    {
     "ename": "KeyboardInterrupt",
     "evalue": "",
     "output_type": "error",
     "traceback": [
      "\u001b[0;31m---------------------------------------------------------------------------\u001b[0m",
      "\u001b[0;31mKeyboardInterrupt\u001b[0m                         Traceback (most recent call last)",
      "Cell \u001b[0;32mIn[24], line 10\u001b[0m\n\u001b[1;32m      8\u001b[0m logging\u001b[38;5;241m.\u001b[39mdebug(\u001b[38;5;124m'\u001b[39m\u001b[38;5;124msending mensage\u001b[39m\u001b[38;5;124m'\u001b[39m)\n\u001b[1;32m      9\u001b[0m producer\u001b[38;5;241m.\u001b[39mkafka_producer(topic\u001b[38;5;241m=\u001b[39m\u001b[38;5;124m\"\u001b[39m\u001b[38;5;124muser\u001b[39m\u001b[38;5;124m\"\u001b[39m, data\u001b[38;5;241m=\u001b[39mjson\u001b[38;5;241m.\u001b[39mdumps(get_data_from_endpoint()))\n\u001b[0;32m---> 10\u001b[0m \u001b[43msleep\u001b[49m\u001b[43m(\u001b[49m\u001b[38;5;241;43m10\u001b[39;49m\u001b[43m)\u001b[49m\n",
      "\u001b[0;31mKeyboardInterrupt\u001b[0m: "
     ]
    }
   ],
   "source": [
    "import json\n",
    "from time import sleep\n",
    "\n",
    "\n",
    "producer = Kafka_producer()\n",
    "\n",
    "while True:\n",
    "    logging.debug('sending mensage')\n",
    "    producer.kafka_producer(topic=\"user\", data=json.dumps(get_data_from_endpoint()))\n",
    "    sleep(10)"
   ]
  },
  {
   "cell_type": "code",
   "execution_count": null,
   "id": "c5c724a4-41a7-4f71-a417-545088278267",
   "metadata": {},
   "outputs": [],
   "source": []
  },
  {
   "cell_type": "code",
   "execution_count": null,
   "id": "ca88f7cd-eb8b-470c-9ed4-a9e8cbe8f6b4",
   "metadata": {},
   "outputs": [],
   "source": []
  }
 ],
 "metadata": {
  "kernelspec": {
   "display_name": "Python 3 (ipykernel)",
   "language": "python",
   "name": "python3"
  },
  "language_info": {
   "codemirror_mode": {
    "name": "ipython",
    "version": 3
   },
   "file_extension": ".py",
   "mimetype": "text/x-python",
   "name": "python",
   "nbconvert_exporter": "python",
   "pygments_lexer": "ipython3",
   "version": "3.10.8"
  }
 },
 "nbformat": 4,
 "nbformat_minor": 5
}
