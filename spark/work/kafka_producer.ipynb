{
 "cells": [
  {
   "cell_type": "code",
   "execution_count": 1,
   "id": "9961e7e0-2ae9-4965-9735-c1d1f87bbf28",
   "metadata": {},
   "outputs": [],
   "source": [
    "import logging\n",
    "\n",
    "# Cria um logger com o nome 'jupyter_logger'\n",
    "logger = logging.getLogger('jupyter_logger')\n",
    "\n",
    "# Define o nível de log para DEBUG, então todas as mensagens de log serão mostradas\n",
    "logger.setLevel(logging.DEBUG)\n",
    "\n",
    "# Cria um manipulador de log que escreve as mensagens de log na saída padrão\n",
    "handler = logging.StreamHandler()\n",
    "\n",
    "# Define o nível de log do manipulador para DEBUG\n",
    "handler.setLevel(logging.DEBUG)\n",
    "\n",
    "# Adiciona o manipulador ao logger\n",
    "logger.addHandler(handler)\n",
    "\n",
    "# Agora você pode usar o logger para registrar mensagens de log\n",
    "# logger.debug('Esta é uma mensagem de debug')\n",
    "# logger.info('Esta é uma mensagem de info')\n",
    "# logger.warning('Esta é uma mensagem de warning')\n",
    "# logger.error('Esta é uma mensagem de error')\n",
    "# logger.critical('Esta é uma mensagem de critical')"
   ]
  },
  {
   "cell_type": "code",
   "execution_count": 2,
   "id": "526add15-3bb4-43f9-b692-863d9d4decc9",
   "metadata": {},
   "outputs": [],
   "source": [
    "from confluent_kafka import Producer\n",
    "# topic = \"user\"\n",
    "\n",
    "class Kafka_producer:\n",
    "    def __init__(self,broker = \"kafka-broker:9092\",group_id = \"python\"):\n",
    "        self._broker = broker\n",
    "        self._group_id = group_id\n",
    "        self._producer = self._making_the_producer()\n",
    "        return\n",
    "    def _making_the_producer(self):\n",
    "        logger.debug('Configuring code')\n",
    "        config = {\n",
    "                'bootstrap.servers': self._broker,\n",
    "                'group.id': self._group_id,\n",
    "                'auto.offset.reset': 'latest',\n",
    "                'enable.auto.commit': 'false',\n",
    "                'max.poll.interval.ms': '86400000'\n",
    "            }\n",
    "        return Producer(config)\n",
    "    \n",
    "    def kafka_producer(self,topic, data):\n",
    "\n",
    "        def _delivery_report(err, msg):\n",
    "            if err is not None:\n",
    "                logger.debug('Message delivery failed: {}'.format(err))\n",
    "            else:\n",
    "                logger.debug('Message delivered to {} [{}]'.format(msg.topic(), msg.partition()))\n",
    "        logger.debug('Publishing to topic')\n",
    "        self._producer.produce(topic, data, callback=_delivery_report)\n",
    "        self._producer.flush()"
   ]
  },
  {
   "cell_type": "code",
   "execution_count": 3,
   "id": "ffdcccaa-840d-4de6-825e-133e91e1e0ef",
   "metadata": {},
   "outputs": [],
   "source": [
    "import requests\n",
    "\n",
    "def get_data_from_endpoint():\n",
    "    url = \"https://random-data-api.com/api/v2/users?size=1\"\n",
    "    response = requests.get(url)\n",
    "    if response.status_code == 200:\n",
    "        return response.json()\n",
    "    else:\n",
    "        return None"
   ]
  },
  {
   "cell_type": "code",
   "execution_count": null,
   "id": "11cad99e-9a8e-4907-8673-365c9568bce3",
   "metadata": {},
   "outputs": [
    {
     "name": "stderr",
     "output_type": "stream",
     "text": [
      "Configuring code\n",
      "sending mensage\n",
      "Publishing to topic\n",
      "Message delivered to user [0]\n",
      "sending mensage\n",
      "Publishing to topic\n",
      "Message delivered to user [0]\n",
      "sending mensage\n",
      "Publishing to topic\n",
      "Message delivered to user [0]\n",
      "sending mensage\n",
      "Publishing to topic\n",
      "Message delivered to user [0]\n",
      "sending mensage\n",
      "Publishing to topic\n",
      "Message delivered to user [0]\n",
      "sending mensage\n",
      "Publishing to topic\n",
      "Message delivered to user [0]\n",
      "sending mensage\n",
      "Publishing to topic\n",
      "Message delivered to user [0]\n",
      "sending mensage\n",
      "Publishing to topic\n",
      "Message delivered to user [0]\n",
      "sending mensage\n",
      "Publishing to topic\n",
      "Message delivered to user [0]\n",
      "sending mensage\n",
      "Publishing to topic\n",
      "Message delivered to user [0]\n",
      "sending mensage\n",
      "Publishing to topic\n",
      "Message delivered to user [0]\n",
      "sending mensage\n",
      "Publishing to topic\n",
      "Message delivered to user [0]\n",
      "sending mensage\n",
      "Publishing to topic\n",
      "Message delivered to user [0]\n"
     ]
    }
   ],
   "source": [
    "import json\n",
    "from time import sleep\n",
    "\n",
    "\n",
    "producer = Kafka_producer()\n",
    "\n",
    "while True:\n",
    "    logger.debug('sending mensage')\n",
    "    producer.kafka_producer(topic=\"user\", data=json.dumps(get_data_from_endpoint()))\n",
    "    sleep(10)"
   ]
  },
  {
   "cell_type": "code",
   "execution_count": null,
   "id": "7f4468d1-bbb3-4ca2-bd37-0792cf296678",
   "metadata": {},
   "outputs": [],
   "source": []
  }
 ],
 "metadata": {
  "kernelspec": {
   "display_name": "Python 3 (ipykernel)",
   "language": "python",
   "name": "python3"
  },
  "language_info": {
   "codemirror_mode": {
    "name": "ipython",
    "version": 3
   },
   "file_extension": ".py",
   "mimetype": "text/x-python",
   "name": "python",
   "nbconvert_exporter": "python",
   "pygments_lexer": "ipython3",
   "version": "3.10.8"
  }
 },
 "nbformat": 4,
 "nbformat_minor": 5
}
