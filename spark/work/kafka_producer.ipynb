{
 "cells": [
  {
   "cell_type": "code",
   "execution_count": 1,
   "id": "21738149-1b91-4381-a832-5b4f38745824",
   "metadata": {},
   "outputs": [],
   "source": [
    "from confluent_kafka import Producer\n",
    "topic = \"user\"\n",
    "def kafka_producer(topic, data):\n",
    "    broker = \"kafka-broker:9092\"\n",
    "    group_id = \"python\"\n",
    "    config = {\n",
    "            'bootstrap.servers': broker,\n",
    "            'group.id': group_id,\n",
    "            'auto.offset.reset': 'latest',\n",
    "            'enable.auto.commit': 'false',\n",
    "            'max.poll.interval.ms': '86400000'\n",
    "        }\n",
    "    p = Producer(config)\n",
    "\n",
    "    def delivery_report(err, msg):\n",
    "        if err is not None:\n",
    "            print('Message delivery failed: {}'.format(err))\n",
    "        else:\n",
    "            print('Message delivered to {} [{}]'.format(msg.topic(), msg.partition()))\n",
    "\n",
    "    p.produce(topic, data, callback=delivery_report)\n",
    "\n",
    "    p.flush()"
   ]
  },
  {
   "cell_type": "code",
   "execution_count": 2,
   "id": "8f9a481e-3f5a-4c6b-9427-648089a9c81f",
   "metadata": {},
   "outputs": [
    {
     "name": "stdout",
     "output_type": "stream",
     "text": [
      "Message delivered to user [0]\n"
     ]
    }
   ],
   "source": [
    "kafka_producer(topic,\"ola\")"
   ]
  },
  {
   "cell_type": "code",
   "execution_count": null,
   "id": "927aa4f2-0bea-424c-bc59-a64e10e9fbbf",
   "metadata": {},
   "outputs": [],
   "source": []
  }
 ],
 "metadata": {
  "kernelspec": {
   "display_name": "Python 3 (ipykernel)",
   "language": "python",
   "name": "python3"
  },
  "language_info": {
   "codemirror_mode": {
    "name": "ipython",
    "version": 3
   },
   "file_extension": ".py",
   "mimetype": "text/x-python",
   "name": "python",
   "nbconvert_exporter": "python",
   "pygments_lexer": "ipython3",
   "version": "3.10.8"
  }
 },
 "nbformat": 4,
 "nbformat_minor": 5
}
