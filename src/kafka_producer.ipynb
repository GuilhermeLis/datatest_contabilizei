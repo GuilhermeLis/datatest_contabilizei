{
 "cells": [
  {
   "cell_type": "code",
   "execution_count": 4,
   "metadata": {},
   "outputs": [],
   "source": [
    "import requests\n",
    "\n",
    "def get_data_from_endpoint():\n",
    "    url = \"https://random-data-api.com/api/v2/users?size=1\"\n",
    "    response = requests.get(url)\n",
    "    if response.status_code == 200:\n",
    "        return response.json()\n",
    "    else:\n",
    "        return None"
   ]
  },
  {
   "cell_type": "code",
   "execution_count": 5,
   "metadata": {},
   "outputs": [
    {
     "data": {
      "text/plain": [
       "{'id': 7679,\n",
       " 'uid': '9cea5391-f8c2-4a24-8daf-6832f53278b1',\n",
       " 'password': '7C6yFvDnHI',\n",
       " 'first_name': 'Hong',\n",
       " 'last_name': 'Padberg',\n",
       " 'username': 'hong.padberg',\n",
       " 'email': 'hong.padberg@email.com',\n",
       " 'avatar': 'https://robohash.org/consecteturteneturdolores.png?size=300x300&set=set1',\n",
       " 'gender': 'Male',\n",
       " 'phone_number': '+381 453-597-1905 x2849',\n",
       " 'social_insurance_number': '124750720',\n",
       " 'date_of_birth': '1965-06-13',\n",
       " 'employment': {'title': 'Advertising Agent', 'key_skill': 'Fast learner'},\n",
       " 'address': {'city': 'Luciebury',\n",
       "  'street_name': 'Erdman Park',\n",
       "  'street_address': '324 Lind Ferry',\n",
       "  'zip_code': '82916-1672',\n",
       "  'state': 'Nebraska',\n",
       "  'country': 'United States',\n",
       "  'coordinates': {'lat': -61.02777965492644, 'lng': -73.1666702135831}},\n",
       " 'credit_card': {'cc_number': '6771-8950-9490-6754'},\n",
       " 'subscription': {'plan': 'Diamond',\n",
       "  'status': 'Idle',\n",
       "  'payment_method': 'Money transfer',\n",
       "  'term': 'Annual'}}"
      ]
     },
     "execution_count": 5,
     "metadata": {},
     "output_type": "execute_result"
    }
   ],
   "source": [
    "get_data_from_endpoint()"
   ]
  },
  {
   "cell_type": "code",
   "execution_count": null,
   "metadata": {},
   "outputs": [],
   "source": [
    "from confluent_kafka import Producer\n",
    "topic = \"user\"\n",
    "def kafka_producer(topic, data):\n",
    "    broker = \"172.21.0.2:9092\"\n",
    "    group_id = \"python\"\n",
    "    config = {\n",
    "            'bootstrap.servers': broker,\n",
    "            'group.id': group_id,\n",
    "            'auto.offset.reset': 'latest',\n",
    "            'enable.auto.commit': 'false',\n",
    "            'max.poll.interval.ms': '86400000'\n",
    "        }\n",
    "    p = Producer(config)\n",
    "\n",
    "    def delivery_report(err, msg):\n",
    "        if err is not None:\n",
    "            print('Message delivery failed: {}'.format(err))\n",
    "        else:\n",
    "            print('Message delivered to {} [{}]'.format(msg.topic(), msg.partition()))\n",
    "\n",
    "    p.produce(topic, data, callback=delivery_report)\n",
    "\n",
    "    p.flush()"
   ]
  },
  {
   "cell_type": "code",
   "execution_count": null,
   "metadata": {},
   "outputs": [],
   "source": [
    "kafka_producer(topic,\"ola\")"
   ]
  }
 ],
 "metadata": {
  "kernelspec": {
   "display_name": "contabilizei",
   "language": "python",
   "name": "python3"
  },
  "language_info": {
   "codemirror_mode": {
    "name": "ipython",
    "version": 3
   },
   "file_extension": ".py",
   "mimetype": "text/x-python",
   "name": "python",
   "nbconvert_exporter": "python",
   "pygments_lexer": "ipython3",
   "version": "3.8.10"
  }
 },
 "nbformat": 4,
 "nbformat_minor": 2
}
