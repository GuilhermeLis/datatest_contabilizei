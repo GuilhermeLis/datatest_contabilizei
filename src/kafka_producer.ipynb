{
 "cells": [
  {
   "cell_type": "code",
   "execution_count": 4,
   "metadata": {},
   "outputs": [],
   "source": [
    "import requests\n",
    "\n",
    "def get_data_from_endpoint():\n",
    "    url = \"https://random-data-api.com/api/v2/users?size=1\"\n",
    "    response = requests.get(url)\n",
    "    if response.status_code == 200:\n",
    "        return response.json()\n",
    "    else:\n",
    "        return None"
   ]
  },
  {
   "cell_type": "code",
   "execution_count": 5,
   "metadata": {},
   "outputs": [
    {
     "data": {
      "text/plain": [
       "{'id': 9846,\n",
       " 'uid': '902cb4e9-9649-486e-aafa-3ae9d4270294',\n",
       " 'password': 'iNdZ2Tf9Gl',\n",
       " 'first_name': 'Jonell',\n",
       " 'last_name': 'Parker',\n",
       " 'username': 'jonell.parker',\n",
       " 'email': 'jonell.parker@email.com',\n",
       " 'avatar': 'https://robohash.org/assumendamagniofficia.png?size=300x300&set=set1',\n",
       " 'gender': 'Genderfluid',\n",
       " 'phone_number': '+49 1-220-343-3675 x52742',\n",
       " 'social_insurance_number': '307217547',\n",
       " 'date_of_birth': '2003-03-28',\n",
       " 'employment': {'title': 'Customer Mining Designer',\n",
       "  'key_skill': 'Self-motivated'},\n",
       " 'address': {'city': 'South Mac',\n",
       "  'street_name': 'Ola Cliff',\n",
       "  'street_address': '898 Huey Crest',\n",
       "  'zip_code': '23834-0533',\n",
       "  'state': 'New York',\n",
       "  'country': 'United States',\n",
       "  'coordinates': {'lat': 72.25867302006245, 'lng': -128.10898480954177}},\n",
       " 'credit_card': {'cc_number': '4952-1650-5695-9431'},\n",
       " 'subscription': {'plan': 'Premium',\n",
       "  'status': 'Active',\n",
       "  'payment_method': 'Apple Pay',\n",
       "  'term': 'Annual'}}"
      ]
     },
     "execution_count": 5,
     "metadata": {},
     "output_type": "execute_result"
    }
   ],
   "source": [
    "get_data_from_endpoint()"
   ]
  },
  {
   "cell_type": "code",
   "execution_count": 6,
   "metadata": {},
   "outputs": [],
   "source": [
    "from confluent_kafka import Producer\n",
    "topic = \"user\"\n",
    "def kafka_producer(topic, data):\n",
    "    broker = \"172.21.0.2:9092\"\n",
    "    group_id = \"python\"\n",
    "    config = {\n",
    "            'bootstrap.servers': broker,\n",
    "            'group.id': group_id,\n",
    "            'auto.offset.reset': 'latest',\n",
    "            'enable.auto.commit': 'false',\n",
    "            'max.poll.interval.ms': '86400000'\n",
    "        }\n",
    "    p = Producer(config)\n",
    "\n",
    "    def delivery_report(err, msg):\n",
    "        if err is not None:\n",
    "            print('Message delivery failed: {}'.format(err))\n",
    "        else:\n",
    "            print('Message delivered to {} [{}]'.format(msg.topic(), msg.partition()))\n",
    "\n",
    "    p.produce(topic, data, callback=delivery_report)\n",
    "\n",
    "    p.flush()"
   ]
  }
 ],
 "metadata": {
  "kernelspec": {
   "display_name": "contabilizei",
   "language": "python",
   "name": "python3"
  },
  "language_info": {
   "codemirror_mode": {
    "name": "ipython",
    "version": 3
   },
   "file_extension": ".py",
   "mimetype": "text/x-python",
   "name": "python",
   "nbconvert_exporter": "python",
   "pygments_lexer": "ipython3",
   "version": "3.8.10"
  }
 },
 "nbformat": 4,
 "nbformat_minor": 2
}
